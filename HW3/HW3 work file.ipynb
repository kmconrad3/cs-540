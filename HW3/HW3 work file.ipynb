{
 "cells": [
  {
   "cell_type": "code",
   "execution_count": 1,
   "id": "fff6f025",
   "metadata": {},
   "outputs": [],
   "source": [
    "from scipy.linalg import eigh\n",
    "import numpy as np\n",
    "import matplotlib.pyplot as plt"
   ]
  },
  {
   "cell_type": "code",
   "execution_count": 2,
   "id": "0c4f79b6",
   "metadata": {},
   "outputs": [],
   "source": [
    "def load_and_center_dataset(filename):\n",
    "    x = np.load(filename)\n",
    "    x = x - np.mean(x, axis=0)\n",
    "    return x"
   ]
  },
  {
   "cell_type": "code",
   "execution_count": 3,
   "id": "09330e98",
   "metadata": {},
   "outputs": [
    {
     "data": {
      "text/plain": [
       "-8.315174931741023e-17"
      ]
     },
     "execution_count": 3,
     "metadata": {},
     "output_type": "execute_result"
    }
   ],
   "source": [
    "x = load_and_center_dataset(\"YaleB_32x32.npy\")\n",
    "len(x)\n",
    "len(x[0])\n",
    "np.average(x)"
   ]
  },
  {
   "cell_type": "code",
   "execution_count": 4,
   "id": "e53efde6",
   "metadata": {},
   "outputs": [],
   "source": [
    "def get_covariance(dataset):\n",
    "    cov = (np.dot(np.transpose(dataset), dataset)/(len(dataset)-1))\n",
    "    return cov"
   ]
  },
  {
   "cell_type": "code",
   "execution_count": 5,
   "id": "d7e7c43e",
   "metadata": {},
   "outputs": [
    {
     "data": {
      "text/plain": [
       "array([[10., 14., 26.],\n",
       "       [14., 20., 38.],\n",
       "       [26., 38., 74.]])"
      ]
     },
     "execution_count": 5,
     "metadata": {},
     "output_type": "execute_result"
    }
   ],
   "source": [
    "x = np.array([[1,2,5],[3,4,7]])\n",
    "get_covariance(x)"
   ]
  },
  {
   "cell_type": "code",
   "execution_count": 6,
   "id": "048a3682",
   "metadata": {},
   "outputs": [],
   "source": [
    "def get_eig(S, m):\n",
    "    SS = eigh(S, subset_by_index=[len(S)-m, len(sss)-1])\n",
    "    lamb = np.diag( np.sort(SS[0])[::-1] )\n",
    "    U = np.fliplr(SS[1])\n",
    "    return lamb, U"
   ]
  },
  {
   "cell_type": "code",
   "execution_count": 7,
   "id": "be8b3b9c",
   "metadata": {},
   "outputs": [
    {
     "data": {
      "text/plain": [
       "array([[1369142.41612494,       0.        ],\n",
       "       [      0.        , 1341168.50476773]])"
      ]
     },
     "execution_count": 7,
     "metadata": {},
     "output_type": "execute_result"
    }
   ],
   "source": [
    "sss = get_covariance(load_and_center_dataset(\"YaleB_32x32.npy\"))\n",
    "ss= eigh(sss , subset_by_index=[len(sss)-2, len(sss)-1])\n",
    "np.diag( np.sort(ss[0])[::-1] )"
   ]
  },
  {
   "cell_type": "code",
   "execution_count": 8,
   "id": "6b78c5fe",
   "metadata": {},
   "outputs": [
    {
     "data": {
      "text/plain": [
       "array([[-0.01304065, -0.0432441 ],\n",
       "       [-0.01177219, -0.04342345],\n",
       "       [-0.00905278, -0.04095089],\n",
       "       ...,\n",
       "       [ 0.00148631,  0.03622013],\n",
       "       [ 0.00205216,  0.0348093 ],\n",
       "       [ 0.00305951,  0.03330786]])"
      ]
     },
     "execution_count": 8,
     "metadata": {},
     "output_type": "execute_result"
    }
   ],
   "source": [
    "np.fliplr(ss[1])"
   ]
  },
  {
   "cell_type": "code",
   "execution_count": 9,
   "id": "5f59aa40",
   "metadata": {},
   "outputs": [
    {
     "data": {
      "text/plain": [
       "(array([[1369142.41612494,       0.        ],\n",
       "        [      0.        , 1341168.50476773]]),\n",
       " array([[-0.01304065, -0.0432441 ],\n",
       "        [-0.01177219, -0.04342345],\n",
       "        [-0.00905278, -0.04095089],\n",
       "        ...,\n",
       "        [ 0.00148631,  0.03622013],\n",
       "        [ 0.00205216,  0.0348093 ],\n",
       "        [ 0.00305951,  0.03330786]]))"
      ]
     },
     "execution_count": 9,
     "metadata": {},
     "output_type": "execute_result"
    }
   ],
   "source": [
    "get_eig( get_covariance(load_and_center_dataset(\"YaleB_32x32.npy\")) , 2)"
   ]
  },
  {
   "cell_type": "code",
   "execution_count": 10,
   "id": "75d54e5d",
   "metadata": {},
   "outputs": [],
   "source": [
    "def get_eig_prop(S, prop):\n",
    "    SS= eigh(S , subset_by_value=[prop*S.trace(), np.inf])\n",
    "    lamb = np.diag( np.sort(SS[0])[::-1] )\n",
    "    U = np.fliplr(ss[1])\n",
    "    return lamb, U"
   ]
  },
  {
   "cell_type": "code",
   "execution_count": 11,
   "id": "7a9ed685",
   "metadata": {},
   "outputs": [
    {
     "data": {
      "text/plain": [
       "array([[1369142.41612494,       0.        ],\n",
       "       [      0.        , 1341168.50476773]])"
      ]
     },
     "execution_count": 11,
     "metadata": {},
     "output_type": "execute_result"
    }
   ],
   "source": [
    "sss = get_covariance(load_and_center_dataset(\"YaleB_32x32.npy\"))\n",
    "x = sss.trace() #sum of diagonals in square matrices --> the eigvals\n",
    "#for each eignval divide by trace and want it if less than .01\n",
    "#want equation all less than .07\n",
    "\n",
    "ss= eigh(sss , subset_by_value=[0.07*x,np.inf])\n",
    "np.diag( np.sort(ss[0])[::-1] )"
   ]
  },
  {
   "cell_type": "code",
   "execution_count": 12,
   "id": "5289be7b",
   "metadata": {},
   "outputs": [],
   "source": [
    "lambb, UU = get_eig_prop(get_covariance(load_and_center_dataset(\"YaleB_32x32.npy\")), 0.07)"
   ]
  },
  {
   "cell_type": "code",
   "execution_count": 13,
   "id": "d1f75ed6",
   "metadata": {},
   "outputs": [],
   "source": [
    "def project_image(image, U):\n",
    "    sum_aij= np.dot(np.transpose(U), image)\n",
    "    return np.dot( uu,sum_aij )"
   ]
  },
  {
   "cell_type": "code",
   "execution_count": 14,
   "id": "c59cc157",
   "metadata": {},
   "outputs": [
    {
     "data": {
      "text/plain": [
       "array([6.84122225, 4.83901287, 1.41736694, ..., 8.75796534, 7.45916035,\n",
       "       5.4548656 ])"
      ]
     },
     "execution_count": 14,
     "metadata": {},
     "output_type": "execute_result"
    }
   ],
   "source": [
    "sss = get_covariance(load_and_center_dataset(\"YaleB_32x32.npy\"))\n",
    "ss= eigh(sss , subset_by_index=[len(sss)-2, len(sss)-1])\n",
    "uu = np.fliplr(ss[1])\n",
    "x = load_and_center_dataset(\"YaleB_32x32.npy\")\n",
    "image = x[0]\n",
    "\n",
    "sum_aij= np.dot(np.transpose(uu), image)\n",
    "\n",
    "np.dot( uu,sum_aij )"
   ]
  },
  {
   "cell_type": "code",
   "execution_count": 15,
   "id": "e309030b",
   "metadata": {},
   "outputs": [
    {
     "data": {
      "text/plain": [
       "array([6.84122225, 4.83901287, 1.41736694, ..., 8.75796534, 7.45916035,\n",
       "       5.4548656 ])"
      ]
     },
     "execution_count": 15,
     "metadata": {},
     "output_type": "execute_result"
    }
   ],
   "source": [
    "lambb, UU = get_eig_prop(get_covariance(load_and_center_dataset(\"YaleB_32x32.npy\")), 0.07)\n",
    "project_image(x[0], UU)"
   ]
  },
  {
   "cell_type": "code",
   "execution_count": 16,
   "id": "39d44c77",
   "metadata": {},
   "outputs": [],
   "source": [
    "def display_image(orig, proj):\n",
    "    fig, axs = plt.subplots(1,2, sharey=True)\n",
    "    im_o= axs[0].imshow( np.reshape(orig, (32,32), order=\"F\"), aspect='equal') \n",
    "    im_p= axs[1].imshow( np.reshape(proj, (32,32), order=\"F\"), aspect='equal')\n",
    "    axs[0].set_title(\"Original\")\n",
    "    axs[1].set_title(\"Projection\")\n",
    "    fig.colorbar(im_o, ax=axs[0], shrink=0.7)\n",
    "    fig.colorbar(im_p, ax=axs[1], shrink=0.7)\n",
    "    fig.show()"
   ]
  },
  {
   "cell_type": "code",
   "execution_count": 17,
   "id": "cd98c220",
   "metadata": {},
   "outputs": [
    {
     "data": {
      "text/plain": [
       "<matplotlib.image.AxesImage at 0x7fe8783057c0>"
      ]
     },
     "execution_count": 17,
     "metadata": {},
     "output_type": "execute_result"
    },
    {
     "data": {
      "image/png": "[encoded data removed]",
      "text/plain": [
       "<Figure size 432x288 with 1 Axes>"
      ]
     },
     "metadata": {
      "needs_background": "light"
     },
     "output_type": "display_data"
    }
   ],
   "source": [
    "plt.imshow( np.reshape(x[0],(32,32)), aspect='equal') "
   ]
  },
  {
   "cell_type": "code",
   "execution_count": 18,
   "id": "898c808f",
   "metadata": {},
   "outputs": [
    {
     "name": "stderr",
     "output_type": "stream",
     "text": [
      "/var/folders/5v/9316dl_532b51_tw99qt9mzh0000gn/T/ipykernel_29487/2282023317.py:8: UserWarning: Matplotlib is currently using module://matplotlib_inline.backend_inline, which is a non-GUI backend, so cannot show the figure.\n",
      "  fig.show()\n"
     ]
    },
    {
     "data": {
      "image/png": "[encoded data removed]",
      "text/plain": [
       "<Figure size 432x288 with 4 Axes>"
      ]
     },
     "metadata": {
      "needs_background": "light"
     },
     "output_type": "display_data"
    }
   ],
   "source": [
    "fig, axs = plt.subplots(1,2, sharey=True)\n",
    "im_o= axs[0].imshow( np.reshape(x[0],(32,32), order=\"F\"), aspect='equal') \n",
    "im_p = axs[1].imshow( np.reshape(project_image(x[0], UU),(32,32), order=\"F\"), aspect='equal')\n",
    "axs[0].set_title(\"Original\")\n",
    "axs[1].set_title(\"Projection\")\n",
    "fig.colorbar(im_o, ax=axs[0], shrink=0.7)\n",
    "fig.colorbar(im_p, ax=axs[1], shrink=0.7)\n",
    "fig.show()"
   ]
  },
  {
   "cell_type": "code",
   "execution_count": 19,
   "id": "cac6e865",
   "metadata": {},
   "outputs": [
    {
     "name": "stderr",
     "output_type": "stream",
     "text": [
      "/var/folders/5v/9316dl_532b51_tw99qt9mzh0000gn/T/ipykernel_29487/1491632167.py:9: UserWarning: Matplotlib is currently using module://matplotlib_inline.backend_inline, which is a non-GUI backend, so cannot show the figure.\n",
      "  fig.show()\n"
     ]
    },
    {
     "data": {
      "image/png": "[encoded data removed]",
      "text/plain": [
       "<Figure size 432x288 with 4 Axes>"
      ]
     },
     "metadata": {
      "needs_background": "light"
     },
     "output_type": "display_data"
    }
   ],
   "source": [
    "x = load_and_center_dataset('YaleB_32x32.npy') \n",
    "S = get_covariance(x)\n",
    "Lambda, U = get_eig(S, 2)\n",
    "projection = project_image(x[0], U)\n",
    "display_image(x[0], projection)"
   ]
  },
  {
   "cell_type": "code",
   "execution_count": null,
   "id": "2e8c53eb",
   "metadata": {},
   "outputs": [],
   "source": []
  }
 ],
 "metadata": {
  "kernelspec": {
   "display_name": "Python 3 (ipykernel)",
   "language": "python",
   "name": "python3"
  },
  "language_info": {
   "codemirror_mode": {
    "name": "ipython",
    "version": 3
   },
   "file_extension": ".py",
   "mimetype": "text/x-python",
   "name": "python",
   "nbconvert_exporter": "python",
   "pygments_lexer": "ipython3",
   "version": "3.9.12"
  }
 },
 "nbformat": 4,
 "nbformat_minor": 5
}
