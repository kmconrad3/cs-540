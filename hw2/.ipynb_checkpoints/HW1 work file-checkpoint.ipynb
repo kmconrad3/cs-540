{
 "cells": [
  {
   "cell_type": "code",
   "execution_count": 1,
   "id": "503e0d05",
   "metadata": {},
   "outputs": [],
   "source": [
    "import sys\n",
    "import math\n",
    "import string\n",
    "\n",
    "def get_parameter_vectors():\n",
    "    '''\n",
    "    This function parses e.txt and s.txt to get the  26-dimensional multinomial\n",
    "    parameter vector (characters probabilities of English and Spanish) as\n",
    "    descibed in section 1.2 of the writeup\n",
    "\n",
    "    Returns: tuple of vectors e and s\n",
    "    '''\n",
    "    #Implementing vectors e,s as lists (arrays) of length 26\n",
    "    #with p[0] being the probability of 'A' and so on\n",
    "    e=[0]*26\n",
    "    s=[0]*26\n",
    "\n",
    "    with open('e.txt',encoding='utf-8') as f:\n",
    "        for line in f:\n",
    "            #strip: removes the newline character\n",
    "            #split: split the string on space character\n",
    "            char,prob=line.strip().split(\" \")\n",
    "            #ord('E') gives the ASCII (integer) value of character 'E'\n",
    "            #we then subtract it from 'A' to give array index\n",
    "            #This way 'A' gets index 0 and 'Z' gets index 25.\n",
    "            e[ord(char)-ord('A')]=float(prob)\n",
    "    f.close()\n",
    "\n",
    "    with open('s.txt',encoding='utf-8') as f:\n",
    "        for line in f:\n",
    "            char,prob=line.strip().split(\" \")\n",
    "            s[ord(char)-ord('A')]=float(prob)\n",
    "    f.close()\n",
    "\n",
    "    return (e,s)"
   ]
  },
  {
   "cell_type": "code",
   "execution_count": 2,
   "id": "108055c5",
   "metadata": {},
   "outputs": [],
   "source": [
    "def shred(filename):\n",
    "    #Using a dictionary here. You may change this to any data structure of\n",
    "    #your choice such as lists (X=[]) etc. for the assignment\n",
    "    X=dict.fromkeys(string.ascii_uppercase, 0)\n",
    "    with open(filename, encoding='utf-8') as f:\n",
    "        for line in f:\n",
    "            for char in line:\n",
    "                    if char.upper() in X:\n",
    "                        X[char.upper()]+= 1\n",
    "\n",
    "    return X"
   ]
  },
  {
   "cell_type": "code",
   "execution_count": 3,
   "id": "18e702e3",
   "metadata": {},
   "outputs": [],
   "source": [
    "def q_two(filename, letterpos):\n",
    "    #letter position all tho e1 and s1, indexing starts at 0\n",
    "    P_X_given_e= get_parameter_vectors()[0][letterpos] #e\n",
    "    P_X_given_s= get_parameter_vectors()[1][letterpos] #s\n",
    "    letter_co= list(shred(filename).values())[letterpos] #Xi\n",
    "    \n",
    "    return round( letter_co * math.log(P_X_given_e), 4 ), round( letter_co * math.log(P_X_given_s), 4 )"
   ]
  },
  {
   "cell_type": "code",
   "execution_count": 4,
   "id": "a28cc1c0",
   "metadata": {},
   "outputs": [],
   "source": [
    "def q_three(filename):\n",
    "    #bayes rule\n",
    "    P_ye=.6\n",
    "    P_ys=.4\n",
    "    \n",
    "    sum_q2_e=0\n",
    "    sum_q2_s=0\n",
    "    for i in range(0,25):\n",
    "        sum_q2_e+=q_two(filename, i)[0] \n",
    "        sum_q2_s+=q_two(filename, i)[1]\n",
    "        \n",
    "    F_ye = math.log(P_ye) + sum_q2_e\n",
    "    F_ys = math.log(P_ys) + sum_q2_s\n",
    "    \n",
    "    return round(F_ye, 4), round(F_ys, 4)"
   ]
  },
  {
   "cell_type": "code",
   "execution_count": 5,
   "id": "96764926",
   "metadata": {},
   "outputs": [],
   "source": [
    "def q_four(filename):\n",
    "    P_ye_X = 1/(1 + math.exp(q_three(filename)[1] - q_three(filename)[0]) )\n",
    "    \n",
    "    return round(P_ye_X, 4)"
   ]
  },
  {
   "cell_type": "code",
   "execution_count": 6,
   "id": "44a4f152",
   "metadata": {},
   "outputs": [
    {
     "name": "stdout",
     "output_type": "stream",
     "text": [
      "Q1\n",
      "A 1\n",
      "B 0\n",
      "C 0\n",
      "D 0\n",
      "E 0\n",
      "F 0\n",
      "G 0\n",
      "H 0\n",
      "I 0\n",
      "J 0\n",
      "K 0\n",
      "L 0\n",
      "M 0\n",
      "N 0\n",
      "O 0\n",
      "P 0\n",
      "Q 0\n",
      "R 0\n",
      "S 0\n",
      "T 0\n",
      "U 0\n",
      "V 0\n",
      "W 0\n",
      "X 0\n",
      "Y 0\n",
      "Z 0\n",
      "Q2\n",
      "-2.4836\n",
      "-2.1066\n",
      "Q3\n",
      "-2.9944\n",
      "-3.0229\n",
      "Q4\n",
      "0.5071\n"
     ]
    }
   ],
   "source": [
    "print(\"Q1\")\n",
    "for i in shred(\"letter.txt\"):\n",
    "    print(\"{i} {x}\".format(i=i, x=shred(\"letter.txt\").get(i))) \n",
    "    \n",
    "print(\"Q2\")\n",
    "print(\"{e:0.4f}\\n{s:0.4f}\".format(e=q_two(\"letter.txt\", 0)[0],s=q_two(\"letter.txt\", 0)[1]) )\n",
    "\n",
    "print(\"Q3\")\n",
    "print(\"{e:0.4f}\\n{s:0.4f}\".format(e=q_three(\"letter.txt\")[0], s=q_three(\"letter.txt\")[1]) )\n",
    "\n",
    "print(\"Q4\")\n",
    "print(\"{e:0.4f}\".format( e=q_four(\"letter.txt\") ) )"
   ]
  },
  {
   "cell_type": "code",
   "execution_count": null,
   "id": "3374c001",
   "metadata": {},
   "outputs": [],
   "source": [
    "## debugged by running py file in terminal on the sample files given"
   ]
  }
 ],
 "metadata": {
  "kernelspec": {
   "display_name": "Python 3 (ipykernel)",
   "language": "python",
   "name": "python3"
  },
  "language_info": {
   "codemirror_mode": {
    "name": "ipython",
    "version": 3
   },
   "file_extension": ".py",
   "mimetype": "text/x-python",
   "name": "python",
   "nbconvert_exporter": "python",
   "pygments_lexer": "ipython3",
   "version": "3.9.12"
  }
 },
 "nbformat": 4,
 "nbformat_minor": 5
}
